{
 "cells": [
  {
   "cell_type": "code",
   "execution_count": 1,
   "id": "b24bdd5b-90be-499c-befb-4593e8502305",
   "metadata": {},
   "outputs": [],
   "source": [
    "import numpy as np\n",
    "import matplotlib.pyplot as plt\n",
    "from astropy.io import fits \n",
    "import pickle "
   ]
  },
  {
   "cell_type": "code",
   "execution_count": 2,
   "id": "2d9216bf-764b-4fe5-8223-6a1e9f99e213",
   "metadata": {},
   "outputs": [],
   "source": [
    "science_list = np.genfromtxt('/home/alcadis/Desktop/lab2/group13_WASP-12_20230113/science/science.list',dtype=str)"
   ]
  },
  {
   "cell_type": "code",
   "execution_count": 3,
   "id": "8be993f3-ec19-46dd-a44e-6220a586a928",
   "metadata": {},
   "outputs": [],
   "source": [
    "science_test_list = science_list[:10] "
   ]
  },
  {
   "cell_type": "code",
   "execution_count": 4,
   "id": "1bd7de3f-c32b-44d4-9d38-441991eb89ae",
   "metadata": {},
   "outputs": [],
   "source": [
    "median_bias = pickle.load(open(\"median_bias.p\", \"rb\"))\n",
    "bias_std = 1.3 # [e] photoelectrons\n",
    "readout_noise = 7.4  # [e] photoelectrons\n",
    "gain = 1.91 # [e/ADU]  # this value may be \n",
    "median_normalized_flat =  pickle.load(open(\"median_normalized_flat.p\", \"rb\"))\n",
    "median_normalized_flat_errors =  pickle.load(open(\"median_normalized_flat_errors.p\", \"rb\"))"
   ]
  },
  {
   "cell_type": "code",
   "execution_count": 5,
   "id": "9fd81506-0020-4328-bc28-f0fe91c4d853",
   "metadata": {},
   "outputs": [
    {
     "name": "stderr",
     "output_type": "stream",
     "text": [
      "/tmp/ipykernel_2829/1292183735.py:7: RuntimeWarning: divide by zero encountered in divide\n",
      "  science_corrected = science_debiased / median_normalized_flat\n",
      "/tmp/ipykernel_2829/1292183735.py:7: RuntimeWarning: invalid value encountered in divide\n",
      "  science_corrected = science_debiased / median_normalized_flat\n",
      "/tmp/ipykernel_2829/1292183735.py:11: RuntimeWarning: divide by zero encountered in divide\n",
      "  science_corrected_errors = science_corrected * np.sqrt((science_debiased_errors/science_debiased)**2 + (median_normalized_flat_errors/median_normalized_flat)**2)\n",
      "/tmp/ipykernel_2829/1292183735.py:11: RuntimeWarning: invalid value encountered in multiply\n",
      "  science_corrected_errors = science_corrected * np.sqrt((science_debiased_errors/science_debiased)**2 + (median_normalized_flat_errors/median_normalized_flat)**2)\n"
     ]
    }
   ],
   "source": [
    "for science_name in science_test_list:\n",
    "    science_fits = fits.open('/home/alcadis/Desktop/lab2/group13_WASP-12_20230113/science/' + science_name)\n",
    "    science_data = science_fits[0].data * gain # save the data from the first HDU \n",
    "    science_fits.close()\n",
    "\n",
    "    science_debiased = science_data - median_bias\n",
    "    science_corrected = science_debiased / median_normalized_flat\n",
    "\n",
    "    ## Error associated to the science corrected frame\n",
    "    science_debiased_errors = np.sqrt(readout_noise**2 + bias_std**2 + science_debiased)\n",
    "    science_corrected_errors = science_corrected * np.sqrt((science_debiased_errors/science_debiased)**2 + (median_normalized_flat_errors/median_normalized_flat)**2)"
   ]
  },
  {
   "cell_type": "code",
   "execution_count": 6,
   "id": "947d4405-f689-40fc-971d-8c6b203f4d5c",
   "metadata": {},
   "outputs": [
    {
     "name": "stdout",
     "output_type": "stream",
     "text": [
      "AF802694.fits\n",
      "AF802694\n",
      "AF802694_corr.p\n"
     ]
    }
   ],
   "source": [
    "print(science_name)\n",
    "print(science_name[:-5])\n",
    "new_name = science_name[:-5] + '_corr.p'\n",
    "print(new_name)"
   ]
  },
  {
   "cell_type": "code",
   "execution_count": 7,
   "id": "9f818348-428f-4ba3-b4ed-f7170a27e04f",
   "metadata": {},
   "outputs": [
    {
     "name": "stderr",
     "output_type": "stream",
     "text": [
      "/tmp/ipykernel_2829/2045413223.py:7: RuntimeWarning: divide by zero encountered in divide\n",
      "  science_corrected = science_debiased / median_normalized_flat\n",
      "/tmp/ipykernel_2829/2045413223.py:7: RuntimeWarning: invalid value encountered in divide\n",
      "  science_corrected = science_debiased / median_normalized_flat\n",
      "/tmp/ipykernel_2829/2045413223.py:11: RuntimeWarning: divide by zero encountered in divide\n",
      "  science_corrected_errors = science_corrected * np.sqrt((science_debiased_errors/science_debiased)**2 + (median_normalized_flat_errors/median_normalized_flat)**2)\n",
      "/tmp/ipykernel_2829/2045413223.py:11: RuntimeWarning: invalid value encountered in multiply\n",
      "  science_corrected_errors = science_corrected * np.sqrt((science_debiased_errors/science_debiased)**2 + (median_normalized_flat_errors/median_normalized_flat)**2)\n"
     ]
    }
   ],
   "source": [
    "for science_name in science_test_list:\n",
    "    science_fits = fits.open('/home/alcadis/Desktop/lab2/group13_WASP-12_20230113/science/' + science_name)\n",
    "    science_data = science_fits[0].data * gain # save the data from the first HDU \n",
    "    science_fits.close()\n",
    "    \n",
    "    science_debiased = science_data - median_bias\n",
    "    science_corrected = science_debiased / median_normalized_flat\n",
    "\n",
    "    ## Error associated to the science corrected frame\n",
    "    science_debiased_errors = np.sqrt(readout_noise**2 + bias_std**2 + science_debiased)\n",
    "    science_corrected_errors = science_corrected * np.sqrt((science_debiased_errors/science_debiased)**2 + (median_normalized_flat_errors/median_normalized_flat)**2)\n",
    "\n",
    "#Here put every task like centroid determination, jd to bjd, aperture photometry\n",
    "\n",
    "\n",
    "    new_name = '/home/alcadis/Desktop/lab2/group13_WASP-12_20230113/correct/' + science_name[:-5] + '_corr.p'\n",
    "    pickle.dump(science_corrected, open(new_name, 'wb'))\n",
    "    new_name = '/home/alcadis/Desktop/lab2/group13_WASP-12_20230113/correct/' + science_name[:-5] + '_corr_errors.p'\n",
    "    pickle.dump(science_corrected_errors, open(new_name, 'wb'))"
   ]
  },
  {
   "cell_type": "code",
   "execution_count": 8,
   "id": "94002df4-b661-4ecb-8541-95338f78b5a3",
   "metadata": {},
   "outputs": [
    {
     "name": "stdout",
     "output_type": "stream",
     "text": [
      "[2459958.325123 2459958.325215 2459958.325306 2459958.325399\n",
      " 2459958.32549  2459958.325582 2459958.325674 2459958.325767\n",
      " 2459958.32586  2459958.325952]\n",
      "[1.186 1.186 1.186 1.186 1.185 1.185 1.185 1.184 1.184 1.184]\n",
      "[6. 6. 6. 6. 6. 6. 6. 6. 6. 6.]\n"
     ]
    }
   ],
   "source": [
    "n_images = len(science_test_list)\n",
    "array_jd = np.zeros(n_images)\n",
    "array_exptime = np.zeros(n_images)\n",
    "array_airmass = np.zeros(n_images)\n",
    "\n",
    "for i_science, science_name in enumerate(science_test_list):\n",
    "    science_fits = fits.open('/home/alcadis/Desktop/lab2/group13_WASP-12_20230113/science/' + science_name)\n",
    "    array_jd[i_science] = science_fits[0].header['JD']\n",
    "    array_airmass[i_science] = science_fits[0].header['AIRMASS']\n",
    "    array_exptime[i_science] = science_fits[0].header['EXPTIME']\n",
    "    science_fits.close()\n",
    "\n",
    "print(array_jd)\n",
    "print(array_airmass)\n",
    "print(array_exptime)"
   ]
  },
  {
   "cell_type": "markdown",
   "id": "2cf1e2db-8a67-41f3-a4a6-e0e278448453",
   "metadata": {},
   "source": [
    "mean sun = fictious \"fake\" constant speed on the equator during the year. real sun and mean sun has to match when passing to the gamma point\n",
    "gamma point = intersection of the ecliptic with equator\n",
    "mean sun is used to call the universal time UT\n",
    "mean solar time = hour angle HA of mean sun + 12 (perchè siamo a mezzanotte ma vogliamo sia 0 e non 12)\n",
    "ST sidereal time = RA right ascension + HA hour angle (HA of the gamma point)\n",
    "UT is a mean solar time at greenwhich\n",
    "UTC universinal cordinated time where the duration of a second it is fixed using the atome international time TAI\n",
    "difference between 86400 s in tai and mean solar time (UT AND UTC have different durations of a second). this difference must be taken into account when observing.\n",
    "1 problem) UTC discontinuous\n",
    "2 problem) UTC in on earth (affected by gravity) (it is a proper time)\n",
    "\n",
    "we use BJD_TDB (times du baricenter, dynamical time to baricenter) (cordinated time) time corrected by gravity (for discontinuities), for space telescopes too. referenced to the baricenter system of sun and earth\n",
    "\n",
    "another complication after correcting from UTC to BJD_TDB is that if you observe from a point of the orbit and next time on the opposite point, you have to take into account that the time the light take to travel to the second position is more (60 minutes). so we need to compute the light travel time like it is a correction to the BJD_TDB to bring the time to the center of baricenter of the orbit\n",
    "\n",
    "JD indicates the location (earth), UTC define the scale you define for measure the time (utc standard use fixed duration of the second + 1 second something like that). We need to convert it to BJD_TDB (B is baricentered or baricentric in the solar systemm for BJD and keeping into account the ligh travel of photon for TDB)"
   ]
  },
  {
   "cell_type": "markdown",
   "id": "07a9a81b-5001-4ef2-b048-955b57c44379",
   "metadata": {},
   "source": [
    "conversion from jd to bjd"
   ]
  },
  {
   "cell_type": "code",
   "execution_count": 9,
   "id": "75dd268c-3642-46d4-98aa-ff08ff0971f3",
   "metadata": {},
   "outputs": [
    {
     "name": "stdout",
     "output_type": "stream",
     "text": [
      "[2459958.32515772 2459958.32524972 2459958.32534072 2459958.32543372\n",
      " 2459958.32552472 2459958.32561672 2459958.32570872 2459958.32580172\n",
      " 2459958.32589472 2459958.32598672]\n"
     ]
    }
   ],
   "source": [
    "array_midexposure = array_jd + array_exptime/2. /86400.\n",
    "print(array_midexposure)"
   ]
  },
  {
   "cell_type": "markdown",
   "id": "af3f15ac-14c3-4dcb-952c-55abe5674f6f",
   "metadata": {},
   "source": [
    "now from jd_utc to bjd_tdb"
   ]
  },
  {
   "cell_type": "code",
   "execution_count": 10,
   "id": "8479ea24-6edc-4294-b873-2c9830e8ccfa",
   "metadata": {},
   "outputs": [
    {
     "ename": "AttributeError",
     "evalue": "module 'numpy._core.umath' has no attribute '_ljust'",
     "output_type": "error",
     "traceback": [
      "\u001b[0;31m---------------------------------------------------------------------------\u001b[0m",
      "\u001b[0;31mAttributeError\u001b[0m                            Traceback (most recent call last)",
      "Cell \u001b[0;32mIn[10], line 1\u001b[0m\n\u001b[0;32m----> 1\u001b[0m \u001b[38;5;28;01mfrom\u001b[39;00m \u001b[38;5;21;01mastropy\u001b[39;00m\u001b[38;5;21;01m.\u001b[39;00m\u001b[38;5;21;01mtime\u001b[39;00m \u001b[38;5;28;01mimport\u001b[39;00m Time\n\u001b[1;32m      3\u001b[0m \u001b[38;5;66;03m#we need the coordinates of the target\u001b[39;00m\n\u001b[1;32m      4\u001b[0m \u001b[38;5;28;01mfrom\u001b[39;00m \u001b[38;5;21;01mastropy\u001b[39;00m \u001b[38;5;28;01mimport\u001b[39;00m coordinates \u001b[38;5;28;01mas\u001b[39;00m coord\n",
      "File \u001b[0;32m~/miniconda3/envs/astrolab2/lib/python3.9/site-packages/astropy/time/__init__.py:5\u001b[0m\n\u001b[1;32m      1\u001b[0m \u001b[38;5;66;03m# Licensed under a 3-clause BSD style license - see LICENSE.rst\u001b[39;00m\n\u001b[1;32m      2\u001b[0m \u001b[38;5;28;01mfrom\u001b[39;00m \u001b[38;5;21;01mastropy\u001b[39;00m \u001b[38;5;28;01mimport\u001b[39;00m config \u001b[38;5;28;01mas\u001b[39;00m _config\n\u001b[0;32m----> 5\u001b[0m \u001b[38;5;28;01mclass\u001b[39;00m \u001b[38;5;21;01mConf\u001b[39;00m(_config\u001b[38;5;241m.\u001b[39mConfigNamespace):\n\u001b[1;32m      6\u001b[0m \u001b[38;5;250m    \u001b[39m\u001b[38;5;124;03m\"\"\"\u001b[39;00m\n\u001b[1;32m      7\u001b[0m \u001b[38;5;124;03m    Configuration parameters for `astropy.time`.\u001b[39;00m\n\u001b[1;32m      8\u001b[0m \u001b[38;5;124;03m    \"\"\"\u001b[39;00m\n\u001b[1;32m     10\u001b[0m     use_fast_parser \u001b[38;5;241m=\u001b[39m _config\u001b[38;5;241m.\u001b[39mConfigItem(\n\u001b[1;32m     11\u001b[0m         [\u001b[38;5;124m\"\u001b[39m\u001b[38;5;124mTrue\u001b[39m\u001b[38;5;124m\"\u001b[39m, \u001b[38;5;124m\"\u001b[39m\u001b[38;5;124mFalse\u001b[39m\u001b[38;5;124m\"\u001b[39m, \u001b[38;5;124m\"\u001b[39m\u001b[38;5;124mforce\u001b[39m\u001b[38;5;124m\"\u001b[39m],\n\u001b[1;32m     12\u001b[0m         \u001b[38;5;124m\"\u001b[39m\u001b[38;5;124mUse fast C parser for supported time strings formats, including ISO, \u001b[39m\u001b[38;5;124m\"\u001b[39m\n\u001b[0;32m   (...)\u001b[0m\n\u001b[1;32m     16\u001b[0m         \u001b[38;5;124m\"\u001b[39m\u001b[38;5;124moptions are all strings.\u001b[39m\u001b[38;5;124m\"\u001b[39m,\n\u001b[1;32m     17\u001b[0m     )\n",
      "File \u001b[0;32m~/miniconda3/envs/astrolab2/lib/python3.9/site-packages/astropy/time/__init__.py:31\u001b[0m, in \u001b[0;36mConf\u001b[0;34m()\u001b[0m\n\u001b[1;32m     27\u001b[0m \u001b[38;5;66;03m# Create a dict of available masked classes for speed.\u001b[39;00m\n\u001b[1;32m     28\u001b[0m \u001b[38;5;66;03m# Use local imports so we do not pollute the module namespace.\u001b[39;00m\n\u001b[1;32m     29\u001b[0m \u001b[38;5;28;01mfrom\u001b[39;00m \u001b[38;5;21;01mnumpy\u001b[39;00m\u001b[38;5;21;01m.\u001b[39;00m\u001b[38;5;21;01mma\u001b[39;00m \u001b[38;5;28;01mimport\u001b[39;00m MaskedArray\n\u001b[0;32m---> 31\u001b[0m \u001b[38;5;28;01mfrom\u001b[39;00m \u001b[38;5;21;01mastropy\u001b[39;00m\u001b[38;5;21;01m.\u001b[39;00m\u001b[38;5;21;01mutils\u001b[39;00m\u001b[38;5;21;01m.\u001b[39;00m\u001b[38;5;21;01mmasked\u001b[39;00m \u001b[38;5;28;01mimport\u001b[39;00m Masked\n\u001b[1;32m     33\u001b[0m _MASKED_CLASSES \u001b[38;5;241m=\u001b[39m {\u001b[38;5;124m\"\u001b[39m\u001b[38;5;124mastropy\u001b[39m\u001b[38;5;124m\"\u001b[39m: Masked, \u001b[38;5;124m\"\u001b[39m\u001b[38;5;124mnumpy\u001b[39m\u001b[38;5;124m\"\u001b[39m: MaskedArray}\n\u001b[1;32m     35\u001b[0m \u001b[38;5;129m@property\u001b[39m\n\u001b[1;32m     36\u001b[0m \u001b[38;5;28;01mdef\u001b[39;00m \u001b[38;5;21m_masked_cls\u001b[39m(\u001b[38;5;28mself\u001b[39m):\n",
      "File \u001b[0;32m~/miniconda3/envs/astrolab2/lib/python3.9/site-packages/astropy/utils/masked/__init__.py:10\u001b[0m\n\u001b[1;32m      1\u001b[0m \u001b[38;5;66;03m# Licensed under a 3-clause BSD style license - see LICENSE.rst\u001b[39;00m\n\u001b[1;32m      2\u001b[0m \u001b[38;5;124;03m\"\"\"\u001b[39;00m\n\u001b[1;32m      3\u001b[0m \u001b[38;5;124;03mBuilt-in mask mixin class.\u001b[39;00m\n\u001b[1;32m      4\u001b[0m \n\u001b[0;32m   (...)\u001b[0m\n\u001b[1;32m      8\u001b[0m \u001b[38;5;124;03mproviding such a predefined class for `~numpy.ndarray`.\u001b[39;00m\n\u001b[1;32m      9\u001b[0m \u001b[38;5;124;03m\"\"\"\u001b[39;00m\n\u001b[0;32m---> 10\u001b[0m \u001b[38;5;28;01mfrom\u001b[39;00m \u001b[38;5;21;01m.\u001b[39;00m\u001b[38;5;21;01mcore\u001b[39;00m \u001b[38;5;28;01mimport\u001b[39;00m \u001b[38;5;241m*\u001b[39m\n",
      "File \u001b[0;32m~/miniconda3/envs/astrolab2/lib/python3.9/site-packages/astropy/utils/masked/core.py:26\u001b[0m\n\u001b[1;32m     23\u001b[0m \u001b[38;5;28;01mfrom\u001b[39;00m \u001b[38;5;21;01mastropy\u001b[39;00m\u001b[38;5;21;01m.\u001b[39;00m\u001b[38;5;21;01mutils\u001b[39;00m\u001b[38;5;21;01m.\u001b[39;00m\u001b[38;5;21;01mdata_info\u001b[39;00m \u001b[38;5;28;01mimport\u001b[39;00m ParentDtypeInfo\n\u001b[1;32m     24\u001b[0m \u001b[38;5;28;01mfrom\u001b[39;00m \u001b[38;5;21;01mastropy\u001b[39;00m\u001b[38;5;21;01m.\u001b[39;00m\u001b[38;5;21;01mutils\u001b[39;00m\u001b[38;5;21;01m.\u001b[39;00m\u001b[38;5;21;01mshapes\u001b[39;00m \u001b[38;5;28;01mimport\u001b[39;00m NDArrayShapeMethods\n\u001b[0;32m---> 26\u001b[0m \u001b[38;5;28;01mfrom\u001b[39;00m \u001b[38;5;21;01m.\u001b[39;00m\u001b[38;5;21;01mfunction_helpers\u001b[39;00m \u001b[38;5;28;01mimport\u001b[39;00m (\n\u001b[1;32m     27\u001b[0m     APPLY_TO_BOTH_FUNCTIONS,\n\u001b[1;32m     28\u001b[0m     DISPATCHED_FUNCTIONS,\n\u001b[1;32m     29\u001b[0m     MASKED_SAFE_FUNCTIONS,\n\u001b[1;32m     30\u001b[0m     UNSUPPORTED_FUNCTIONS,\n\u001b[1;32m     31\u001b[0m )\n\u001b[1;32m     33\u001b[0m __all__ \u001b[38;5;241m=\u001b[39m [\u001b[38;5;124m\"\u001b[39m\u001b[38;5;124mMasked\u001b[39m\u001b[38;5;124m\"\u001b[39m, \u001b[38;5;124m\"\u001b[39m\u001b[38;5;124mMaskedNDArray\u001b[39m\u001b[38;5;124m\"\u001b[39m]\n\u001b[1;32m     36\u001b[0m get__doc__ \u001b[38;5;241m=\u001b[39m \u001b[38;5;124m\"\"\"\u001b[39m\u001b[38;5;124mMasked version of \u001b[39m\u001b[38;5;132;01m{0.__name__}\u001b[39;00m\u001b[38;5;124m.\u001b[39m\n\u001b[1;32m     37\u001b[0m \n\u001b[1;32m     38\u001b[0m \u001b[38;5;124mExcept for the ability to pass in a ``mask``, parameters are\u001b[39m\n\u001b[1;32m     39\u001b[0m \u001b[38;5;124mas for `\u001b[39m\u001b[38;5;132;01m{0.__module__}\u001b[39;00m\u001b[38;5;124m.\u001b[39m\u001b[38;5;132;01m{0.__name__}\u001b[39;00m\u001b[38;5;124m`.\u001b[39m\n\u001b[1;32m     40\u001b[0m \u001b[38;5;124m\"\"\"\u001b[39m\u001b[38;5;241m.\u001b[39mformat\n",
      "File \u001b[0;32m~/miniconda3/envs/astrolab2/lib/python3.9/site-packages/astropy/utils/masked/function_helpers.py:14\u001b[0m\n\u001b[1;32m      2\u001b[0m \u001b[38;5;124;03m\"\"\"Helpers for letting numpy functions interact with Masked arrays.\u001b[39;00m\n\u001b[1;32m      3\u001b[0m \n\u001b[1;32m      4\u001b[0m \u001b[38;5;124;03mThe module supplies helper routines for numpy functions that propagate\u001b[39;00m\n\u001b[0;32m   (...)\u001b[0m\n\u001b[1;32m     10\u001b[0m \n\u001b[1;32m     11\u001b[0m \u001b[38;5;124;03m\"\"\"\u001b[39;00m\n\u001b[1;32m     12\u001b[0m \u001b[38;5;28;01mimport\u001b[39;00m \u001b[38;5;21;01mnumpy\u001b[39;00m \u001b[38;5;28;01mas\u001b[39;00m \u001b[38;5;21;01mnp\u001b[39;00m\n\u001b[0;32m---> 14\u001b[0m \u001b[38;5;28;01mfrom\u001b[39;00m \u001b[38;5;21;01mastropy\u001b[39;00m\u001b[38;5;21;01m.\u001b[39;00m\u001b[38;5;21;01munits\u001b[39;00m\u001b[38;5;21;01m.\u001b[39;00m\u001b[38;5;21;01mquantity_helper\u001b[39;00m\u001b[38;5;21;01m.\u001b[39;00m\u001b[38;5;21;01mfunction_helpers\u001b[39;00m \u001b[38;5;28;01mimport\u001b[39;00m FunctionAssigner\n\u001b[1;32m     15\u001b[0m \u001b[38;5;28;01mfrom\u001b[39;00m \u001b[38;5;21;01mastropy\u001b[39;00m\u001b[38;5;21;01m.\u001b[39;00m\u001b[38;5;21;01mutils\u001b[39;00m\u001b[38;5;21;01m.\u001b[39;00m\u001b[38;5;21;01mcompat\u001b[39;00m \u001b[38;5;28;01mimport\u001b[39;00m NUMPY_LT_1_23, NUMPY_LT_1_24, NUMPY_LT_2_0\n\u001b[1;32m     17\u001b[0m \u001b[38;5;28;01mif\u001b[39;00m NUMPY_LT_2_0:\n",
      "File \u001b[0;32m~/miniconda3/envs/astrolab2/lib/python3.9/site-packages/astropy/units/__init__.py:23\u001b[0m\n\u001b[1;32m     21\u001b[0m \u001b[38;5;66;03m# isort: off\u001b[39;00m\n\u001b[1;32m     22\u001b[0m \u001b[38;5;28;01mfrom\u001b[39;00m \u001b[38;5;21;01m.\u001b[39;00m\u001b[38;5;21;01mcore\u001b[39;00m \u001b[38;5;28;01mimport\u001b[39;00m \u001b[38;5;241m*\u001b[39m\n\u001b[0;32m---> 23\u001b[0m \u001b[38;5;28;01mfrom\u001b[39;00m \u001b[38;5;21;01m.\u001b[39;00m\u001b[38;5;21;01mquantity\u001b[39;00m \u001b[38;5;28;01mimport\u001b[39;00m \u001b[38;5;241m*\u001b[39m\n\u001b[1;32m     25\u001b[0m \u001b[38;5;28;01mfrom\u001b[39;00m \u001b[38;5;21;01m.\u001b[39;00m \u001b[38;5;28;01mimport\u001b[39;00m astrophys, cgs, misc, photometric, si\n\u001b[1;32m     26\u001b[0m \u001b[38;5;28;01mfrom\u001b[39;00m \u001b[38;5;21;01m.\u001b[39;00m\u001b[38;5;21;01mfunction\u001b[39;00m \u001b[38;5;28;01mimport\u001b[39;00m units \u001b[38;5;28;01mas\u001b[39;00m function_units\n",
      "File \u001b[0;32m~/miniconda3/envs/astrolab2/lib/python3.9/site-packages/astropy/units/quantity.py:36\u001b[0m\n\u001b[1;32m     26\u001b[0m \u001b[38;5;28;01mfrom\u001b[39;00m \u001b[38;5;21;01m.\u001b[39;00m\u001b[38;5;21;01mcore\u001b[39;00m \u001b[38;5;28;01mimport\u001b[39;00m (\n\u001b[1;32m     27\u001b[0m     Unit,\n\u001b[1;32m     28\u001b[0m     UnitBase,\n\u001b[0;32m   (...)\u001b[0m\n\u001b[1;32m     33\u001b[0m     get_current_unit_registry,\n\u001b[1;32m     34\u001b[0m )\n\u001b[1;32m     35\u001b[0m \u001b[38;5;28;01mfrom\u001b[39;00m \u001b[38;5;21;01m.\u001b[39;00m\u001b[38;5;21;01mformat\u001b[39;00m \u001b[38;5;28;01mimport\u001b[39;00m Base, Latex\n\u001b[0;32m---> 36\u001b[0m \u001b[38;5;28;01mfrom\u001b[39;00m \u001b[38;5;21;01m.\u001b[39;00m\u001b[38;5;21;01mquantity_helper\u001b[39;00m \u001b[38;5;28;01mimport\u001b[39;00m can_have_arbitrary_unit, check_output, converters_and_unit\n\u001b[1;32m     37\u001b[0m \u001b[38;5;28;01mfrom\u001b[39;00m \u001b[38;5;21;01m.\u001b[39;00m\u001b[38;5;21;01mquantity_helper\u001b[39;00m\u001b[38;5;21;01m.\u001b[39;00m\u001b[38;5;21;01mfunction_helpers\u001b[39;00m \u001b[38;5;28;01mimport\u001b[39;00m (\n\u001b[1;32m     38\u001b[0m     DISPATCHED_FUNCTIONS,\n\u001b[1;32m     39\u001b[0m     FUNCTION_HELPERS,\n\u001b[1;32m     40\u001b[0m     SUBCLASS_SAFE_FUNCTIONS,\n\u001b[1;32m     41\u001b[0m     UNSUPPORTED_FUNCTIONS,\n\u001b[1;32m     42\u001b[0m )\n\u001b[1;32m     43\u001b[0m \u001b[38;5;28;01mfrom\u001b[39;00m \u001b[38;5;21;01m.\u001b[39;00m\u001b[38;5;21;01mstructured\u001b[39;00m \u001b[38;5;28;01mimport\u001b[39;00m StructuredUnit, _structured_unit_like_dtype\n",
      "File \u001b[0;32m~/miniconda3/envs/astrolab2/lib/python3.9/site-packages/astropy/units/quantity_helper/__init__.py:16\u001b[0m\n\u001b[1;32m      8\u001b[0m \u001b[38;5;28;01mfrom\u001b[39;00m \u001b[38;5;21;01m.\u001b[39;00m\u001b[38;5;21;01mconverters\u001b[39;00m \u001b[38;5;28;01mimport\u001b[39;00m \u001b[38;5;241m*\u001b[39m\n\u001b[1;32m     10\u001b[0m \u001b[38;5;66;03m# isort: split\u001b[39;00m\n\u001b[1;32m     11\u001b[0m \u001b[38;5;66;03m# By importing helpers, all the unit conversion functions needed for\u001b[39;00m\n\u001b[1;32m     12\u001b[0m \u001b[38;5;66;03m# numpy ufuncs and functions are defined.\u001b[39;00m\n\u001b[1;32m     13\u001b[0m \u001b[38;5;66;03m# For scipy.special and erfa, importing the helper modules ensures\u001b[39;00m\n\u001b[1;32m     14\u001b[0m \u001b[38;5;66;03m# the definitions are added as modules to UFUNC_HELPERS, to be loaded\u001b[39;00m\n\u001b[1;32m     15\u001b[0m \u001b[38;5;66;03m# on demand.\u001b[39;00m\n\u001b[0;32m---> 16\u001b[0m \u001b[38;5;28;01mfrom\u001b[39;00m \u001b[38;5;21;01m.\u001b[39;00m \u001b[38;5;28;01mimport\u001b[39;00m erfa, function_helpers, helpers, scipy_special\n",
      "File \u001b[0;32m~/miniconda3/envs/astrolab2/lib/python3.9/site-packages/astropy/units/quantity_helper/erfa.py:12\u001b[0m\n\u001b[1;32m      9\u001b[0m \u001b[38;5;28;01mfrom\u001b[39;00m \u001b[38;5;21;01mastropy\u001b[39;00m\u001b[38;5;21;01m.\u001b[39;00m\u001b[38;5;21;01munits\u001b[39;00m\u001b[38;5;21;01m.\u001b[39;00m\u001b[38;5;21;01mstructured\u001b[39;00m \u001b[38;5;28;01mimport\u001b[39;00m StructuredUnit\n\u001b[1;32m     11\u001b[0m \u001b[38;5;28;01mfrom\u001b[39;00m \u001b[38;5;21;01m.\u001b[39;00m \u001b[38;5;28;01mimport\u001b[39;00m UFUNC_HELPERS\n\u001b[0;32m---> 12\u001b[0m \u001b[38;5;28;01mfrom\u001b[39;00m \u001b[38;5;21;01m.\u001b[39;00m\u001b[38;5;21;01mhelpers\u001b[39;00m \u001b[38;5;28;01mimport\u001b[39;00m (\n\u001b[1;32m     13\u001b[0m     _d,\n\u001b[1;32m     14\u001b[0m     get_converter,\n\u001b[1;32m     15\u001b[0m     helper_invariant,\n\u001b[1;32m     16\u001b[0m     helper_multiplication,\n\u001b[1;32m     17\u001b[0m     helper_twoarg_invariant,\n\u001b[1;32m     18\u001b[0m )\n\u001b[1;32m     20\u001b[0m erfa_ufuncs \u001b[38;5;241m=\u001b[39m (\n\u001b[1;32m     21\u001b[0m     \u001b[38;5;124m\"\u001b[39m\u001b[38;5;124ms2c\u001b[39m\u001b[38;5;124m\"\u001b[39m, \u001b[38;5;124m\"\u001b[39m\u001b[38;5;124ms2p\u001b[39m\u001b[38;5;124m\"\u001b[39m, \u001b[38;5;124m\"\u001b[39m\u001b[38;5;124mc2s\u001b[39m\u001b[38;5;124m\"\u001b[39m, \u001b[38;5;124m\"\u001b[39m\u001b[38;5;124mp2s\u001b[39m\u001b[38;5;124m\"\u001b[39m, \u001b[38;5;124m\"\u001b[39m\u001b[38;5;124mpm\u001b[39m\u001b[38;5;124m\"\u001b[39m, \u001b[38;5;124m\"\u001b[39m\u001b[38;5;124mpdp\u001b[39m\u001b[38;5;124m\"\u001b[39m, \u001b[38;5;124m\"\u001b[39m\u001b[38;5;124mpxp\u001b[39m\u001b[38;5;124m\"\u001b[39m, \u001b[38;5;124m\"\u001b[39m\u001b[38;5;124mrxp\u001b[39m\u001b[38;5;124m\"\u001b[39m, \u001b[38;5;124m\"\u001b[39m\u001b[38;5;124mcpv\u001b[39m\u001b[38;5;124m\"\u001b[39m, \u001b[38;5;124m\"\u001b[39m\u001b[38;5;124mp2pv\u001b[39m\u001b[38;5;124m\"\u001b[39m, \u001b[38;5;124m\"\u001b[39m\u001b[38;5;124mpv2p\u001b[39m\u001b[38;5;124m\"\u001b[39m,\n\u001b[1;32m     22\u001b[0m     \u001b[38;5;124m\"\u001b[39m\u001b[38;5;124mpv2s\u001b[39m\u001b[38;5;124m\"\u001b[39m, \u001b[38;5;124m\"\u001b[39m\u001b[38;5;124mpvdpv\u001b[39m\u001b[38;5;124m\"\u001b[39m, \u001b[38;5;124m\"\u001b[39m\u001b[38;5;124mpvm\u001b[39m\u001b[38;5;124m\"\u001b[39m, \u001b[38;5;124m\"\u001b[39m\u001b[38;5;124mpvmpv\u001b[39m\u001b[38;5;124m\"\u001b[39m, \u001b[38;5;124m\"\u001b[39m\u001b[38;5;124mpvppv\u001b[39m\u001b[38;5;124m\"\u001b[39m, \u001b[38;5;124m\"\u001b[39m\u001b[38;5;124mpvstar\u001b[39m\u001b[38;5;124m\"\u001b[39m, \u001b[38;5;124m\"\u001b[39m\u001b[38;5;124mpvtob\u001b[39m\u001b[38;5;124m\"\u001b[39m, \u001b[38;5;124m\"\u001b[39m\u001b[38;5;124mpvu\u001b[39m\u001b[38;5;124m\"\u001b[39m, \u001b[38;5;124m\"\u001b[39m\u001b[38;5;124mpvup\u001b[39m\u001b[38;5;124m\"\u001b[39m,\n\u001b[0;32m   (...)\u001b[0m\n\u001b[1;32m     25\u001b[0m     \u001b[38;5;124m\"\u001b[39m\u001b[38;5;124matioq\u001b[39m\u001b[38;5;124m\"\u001b[39m, \u001b[38;5;124m\"\u001b[39m\u001b[38;5;124matoiq\u001b[39m\u001b[38;5;124m\"\u001b[39m,\n\u001b[1;32m     26\u001b[0m )  \u001b[38;5;66;03m# fmt: skip\u001b[39;00m\n\u001b[1;32m     29\u001b[0m \u001b[38;5;28;01mdef\u001b[39;00m \u001b[38;5;21mhas_matching_structure\u001b[39m(unit, dtype):\n",
      "File \u001b[0;32m~/miniconda3/envs/astrolab2/lib/python3.9/site-packages/astropy/units/quantity_helper/helpers.py:393\u001b[0m\n\u001b[1;32m    347\u001b[0m UNSUPPORTED_UFUNCS \u001b[38;5;241m|\u001b[39m\u001b[38;5;241m=\u001b[39m {\n\u001b[1;32m    348\u001b[0m     np\u001b[38;5;241m.\u001b[39mbitwise_and,\n\u001b[1;32m    349\u001b[0m     np\u001b[38;5;241m.\u001b[39mbitwise_or,\n\u001b[0;32m   (...)\u001b[0m\n\u001b[1;32m    360\u001b[0m     np\u001b[38;5;241m.\u001b[39mlcm,\n\u001b[1;32m    361\u001b[0m }\n\u001b[1;32m    363\u001b[0m \u001b[38;5;28;01mif\u001b[39;00m \u001b[38;5;129;01mnot\u001b[39;00m NUMPY_LT_2_0:\n\u001b[1;32m    364\u001b[0m     \u001b[38;5;66;03m# string utilities - make no sense for Quantity.\u001b[39;00m\n\u001b[1;32m    365\u001b[0m     UNSUPPORTED_UFUNCS \u001b[38;5;241m|\u001b[39m\u001b[38;5;241m=\u001b[39m {\n\u001b[1;32m    366\u001b[0m         np\u001b[38;5;241m.\u001b[39mbitwise_count,\n\u001b[1;32m    367\u001b[0m         np\u001b[38;5;241m.\u001b[39m_core\u001b[38;5;241m.\u001b[39mumath\u001b[38;5;241m.\u001b[39mcount,\n\u001b[1;32m    368\u001b[0m         np\u001b[38;5;241m.\u001b[39m_core\u001b[38;5;241m.\u001b[39mumath\u001b[38;5;241m.\u001b[39misalpha,\n\u001b[1;32m    369\u001b[0m         np\u001b[38;5;241m.\u001b[39m_core\u001b[38;5;241m.\u001b[39mumath\u001b[38;5;241m.\u001b[39misdigit,\n\u001b[1;32m    370\u001b[0m         np\u001b[38;5;241m.\u001b[39m_core\u001b[38;5;241m.\u001b[39mumath\u001b[38;5;241m.\u001b[39misspace,\n\u001b[1;32m    371\u001b[0m         np\u001b[38;5;241m.\u001b[39m_core\u001b[38;5;241m.\u001b[39mumath\u001b[38;5;241m.\u001b[39misnumeric,\n\u001b[1;32m    372\u001b[0m         np\u001b[38;5;241m.\u001b[39m_core\u001b[38;5;241m.\u001b[39mumath\u001b[38;5;241m.\u001b[39misdecimal,\n\u001b[1;32m    373\u001b[0m         np\u001b[38;5;241m.\u001b[39m_core\u001b[38;5;241m.\u001b[39mumath\u001b[38;5;241m.\u001b[39misalnum,\n\u001b[1;32m    374\u001b[0m         np\u001b[38;5;241m.\u001b[39m_core\u001b[38;5;241m.\u001b[39mumath\u001b[38;5;241m.\u001b[39mistitle,\n\u001b[1;32m    375\u001b[0m         np\u001b[38;5;241m.\u001b[39m_core\u001b[38;5;241m.\u001b[39mumath\u001b[38;5;241m.\u001b[39mislower,\n\u001b[1;32m    376\u001b[0m         np\u001b[38;5;241m.\u001b[39m_core\u001b[38;5;241m.\u001b[39mumath\u001b[38;5;241m.\u001b[39misupper,\n\u001b[1;32m    377\u001b[0m         np\u001b[38;5;241m.\u001b[39m_core\u001b[38;5;241m.\u001b[39mumath\u001b[38;5;241m.\u001b[39mindex,\n\u001b[1;32m    378\u001b[0m         np\u001b[38;5;241m.\u001b[39m_core\u001b[38;5;241m.\u001b[39mumath\u001b[38;5;241m.\u001b[39mrindex,\n\u001b[1;32m    379\u001b[0m         np\u001b[38;5;241m.\u001b[39m_core\u001b[38;5;241m.\u001b[39mumath\u001b[38;5;241m.\u001b[39mstartswith,\n\u001b[1;32m    380\u001b[0m         np\u001b[38;5;241m.\u001b[39m_core\u001b[38;5;241m.\u001b[39mumath\u001b[38;5;241m.\u001b[39mendswith,\n\u001b[1;32m    381\u001b[0m         np\u001b[38;5;241m.\u001b[39m_core\u001b[38;5;241m.\u001b[39mumath\u001b[38;5;241m.\u001b[39mfind,\n\u001b[1;32m    382\u001b[0m         np\u001b[38;5;241m.\u001b[39m_core\u001b[38;5;241m.\u001b[39mumath\u001b[38;5;241m.\u001b[39mrfind,\n\u001b[1;32m    383\u001b[0m         np\u001b[38;5;241m.\u001b[39m_core\u001b[38;5;241m.\u001b[39mumath\u001b[38;5;241m.\u001b[39mstr_len,\n\u001b[1;32m    384\u001b[0m         np\u001b[38;5;241m.\u001b[39m_core\u001b[38;5;241m.\u001b[39mumath\u001b[38;5;241m.\u001b[39m_strip_chars,\n\u001b[1;32m    385\u001b[0m         np\u001b[38;5;241m.\u001b[39m_core\u001b[38;5;241m.\u001b[39mumath\u001b[38;5;241m.\u001b[39m_lstrip_chars,\n\u001b[1;32m    386\u001b[0m         np\u001b[38;5;241m.\u001b[39m_core\u001b[38;5;241m.\u001b[39mumath\u001b[38;5;241m.\u001b[39m_rstrip_chars,\n\u001b[1;32m    387\u001b[0m         np\u001b[38;5;241m.\u001b[39m_core\u001b[38;5;241m.\u001b[39mumath\u001b[38;5;241m.\u001b[39m_strip_whitespace,\n\u001b[1;32m    388\u001b[0m         np\u001b[38;5;241m.\u001b[39m_core\u001b[38;5;241m.\u001b[39mumath\u001b[38;5;241m.\u001b[39m_lstrip_whitespace,\n\u001b[1;32m    389\u001b[0m         np\u001b[38;5;241m.\u001b[39m_core\u001b[38;5;241m.\u001b[39mumath\u001b[38;5;241m.\u001b[39m_rstrip_whitespace,\n\u001b[1;32m    390\u001b[0m         np\u001b[38;5;241m.\u001b[39m_core\u001b[38;5;241m.\u001b[39mumath\u001b[38;5;241m.\u001b[39m_replace,\n\u001b[1;32m    391\u001b[0m         np\u001b[38;5;241m.\u001b[39m_core\u001b[38;5;241m.\u001b[39mumath\u001b[38;5;241m.\u001b[39m_expandtabs,\n\u001b[1;32m    392\u001b[0m         np\u001b[38;5;241m.\u001b[39m_core\u001b[38;5;241m.\u001b[39mumath\u001b[38;5;241m.\u001b[39m_expandtabs_length,\n\u001b[0;32m--> 393\u001b[0m         \u001b[43mnp\u001b[49m\u001b[38;5;241;43m.\u001b[39;49m\u001b[43m_core\u001b[49m\u001b[38;5;241;43m.\u001b[39;49m\u001b[43mumath\u001b[49m\u001b[38;5;241;43m.\u001b[39;49m\u001b[43m_ljust\u001b[49m,\n\u001b[1;32m    394\u001b[0m         np\u001b[38;5;241m.\u001b[39m_core\u001b[38;5;241m.\u001b[39mumath\u001b[38;5;241m.\u001b[39m_rjust,\n\u001b[1;32m    395\u001b[0m         np\u001b[38;5;241m.\u001b[39m_core\u001b[38;5;241m.\u001b[39mumath\u001b[38;5;241m.\u001b[39m_center,\n\u001b[1;32m    396\u001b[0m         np\u001b[38;5;241m.\u001b[39m_core\u001b[38;5;241m.\u001b[39mumath\u001b[38;5;241m.\u001b[39m_zfill,\n\u001b[1;32m    397\u001b[0m     }\n\u001b[1;32m    399\u001b[0m \u001b[38;5;66;03m# SINGLE ARGUMENT UFUNCS\u001b[39;00m\n\u001b[1;32m    400\u001b[0m \n\u001b[1;32m    401\u001b[0m \u001b[38;5;66;03m# ufuncs that do not care about the unit and do not return a Quantity\u001b[39;00m\n\u001b[1;32m    402\u001b[0m \u001b[38;5;66;03m# (but rather a boolean, or -1, 0, or +1 for np.sign).\u001b[39;00m\n\u001b[1;32m    403\u001b[0m onearg_test_ufuncs \u001b[38;5;241m=\u001b[39m (np\u001b[38;5;241m.\u001b[39misfinite, np\u001b[38;5;241m.\u001b[39misinf, np\u001b[38;5;241m.\u001b[39misnan, np\u001b[38;5;241m.\u001b[39msign, np\u001b[38;5;241m.\u001b[39msignbit)\n",
      "\u001b[0;31mAttributeError\u001b[0m: module 'numpy._core.umath' has no attribute '_ljust'"
     ]
    }
   ],
   "source": [
    "from astropy.time import Time\n",
    "\n",
    "#we need the coordinates of the target\n",
    "from astropy import coordinates as coord\n",
    "from astropy import units as u"
   ]
  },
  {
   "cell_type": "code",
   "execution_count": null,
   "id": "116a78d7-e576-4392-b179-2e72625fa5fa",
   "metadata": {},
   "outputs": [],
   "source": [
    "science_fits = fits.open('/home/alcadis/Desktop/lab2/group13_WASP-12_20230113/science/' + science_test_list[0])\n",
    "print(science_fits[0].header['RA'], science_fits[0].header['DEC'])\n",
    "print(science_fits[0].header['OBJCTRA'], science_fits[0].header['OBJCTDEC'])"
   ]
  },
  {
   "cell_type": "code",
   "execution_count": null,
   "id": "af939985-cf75-436a-965a-ce4c0e180538",
   "metadata": {},
   "outputs": [],
   "source": [
    "telescope = coord.SkyCoord('06:30:31.57', '+29:40:23', unit=(u.hourangle, u.deg), frame='icrs')\n",
    "target = coord.SkyCoord('06:30:32.79', '+29:40:20', unit=(u.hourangle, u.deg), frame='icrs')"
   ]
  },
  {
   "cell_type": "code",
   "execution_count": null,
   "id": "9c5c5779-8740-4b28-b0c6-8dc978e97688",
   "metadata": {},
   "outputs": [],
   "source": [
    "print(telescope)\n",
    "print(target)\n",
    "print(telescope.ra) #esempio printando solo ra\n",
    "print(telescope.ra.deg) #esempio printando ra in deg"
   ]
  },
  {
   "cell_type": "code",
   "execution_count": null,
   "id": "aab96454-451e-49ce-9518-74702db54ba7",
   "metadata": {},
   "outputs": [],
   "source": [
    "print(science_fits[0].header['SITELAT'])\n",
    "print(science_fits[0].header['SITELONG'])"
   ]
  },
  {
   "cell_type": "code",
   "execution_count": null,
   "id": "a6230334-d85c-438d-b557-68bfd1c37a40",
   "metadata": {},
   "outputs": [],
   "source": [
    "time_object = Time(array_midexposure, format='jd', scale='utc', location=('45.8472d', '11.567d')) #location of the telescope"
   ]
  },
  {
   "cell_type": "code",
   "execution_count": null,
   "id": "483c172a-ea5c-43cb-96a9-1d2fd4e985e7",
   "metadata": {},
   "outputs": [],
   "source": [
    "bjd_tdb = time_object.tdb + time_object.light_travel_time(target, ephemeris='jpl')"
   ]
  },
  {
   "cell_type": "code",
   "execution_count": null,
   "id": "d19ac98e-6638-4f36-89d3-ddbf957e44c9",
   "metadata": {
    "scrolled": true
   },
   "outputs": [],
   "source": [
    "print(bjd_tdb)\n",
    "print((bjd_tdb.value - array_midexposure)*86400) #baricenter and light travel time difference from the jd_utc"
   ]
  },
  {
   "cell_type": "code",
   "execution_count": null,
   "id": "487ec322-8c9b-4571-8983-3dc2ec2020a6",
   "metadata": {},
   "outputs": [],
   "source": [
    "jd_plot = np.arange(2460000.000, 2460365.25, 0.01)\n",
    "time_plot = Time(jd_plot, format='jd', scale='utc', location=('45.8472d', '11.567d'))\n",
    "ltt_target_plot = time_plot.light_travel_time(target, ephemeris='jpl')\n",
    "ltt_telescope_plot = time_plot.light_travel_time(telescope, ephemeris='jpl')"
   ]
  },
  {
   "cell_type": "code",
   "execution_count": null,
   "id": "4914a8d3-b56d-4ae9-a116-7cb0fc6d4def",
   "metadata": {},
   "outputs": [],
   "source": [
    "plt.figure(figsize=(6,4))\n",
    "plt.plot(jd_plot, ltt_target_plot.to_value(u.min), label ='LTT of target')\n",
    "plt.plot(jd_plot, ltt_telescope_plot.to_value(u.min), label ='LTT of telescope')\n",
    "plt.legend()\n",
    "plt.xlabel('JD')\n",
    "plt.ylabel('Minutes')\n",
    "plt.show()"
   ]
  },
  {
   "cell_type": "code",
   "execution_count": null,
   "id": "aac570b2-6303-45fc-96b6-e64b826a3314",
   "metadata": {},
   "outputs": [],
   "source": [
    "plt.figure(figsize=(6,4))\n",
    "plt.plot(jd_plot, ltt_target_plot.to_value(u.s) - ltt_telescope_plot.to_value(u.s), label ='LTT difference')\n",
    "plt.legend()\n",
    "plt.xlabel('JD')\n",
    "plt.ylabel('Minutes')\n",
    "plt.show()"
   ]
  },
  {
   "cell_type": "code",
   "execution_count": null,
   "id": "e4285cdd-ba6c-4094-836a-b84e5deebdab",
   "metadata": {
    "scrolled": true
   },
   "outputs": [],
   "source": [
    "science_frame_name = '/home/alcadis/Desktop/lab2/group13_WASP-12_20230113/correct/' + science_test_list[-1][:-5] + '_corr.p'\n",
    "science_corrected = pickle.load(open(science_frame_name, 'rb'))\n",
    "import matplotlib.colors as colors\n",
    "\n",
    "vmin = np.amin(science_corrected[:,100:400])\n",
    "vmax = np.amax(science_corrected[:,100:400])\n",
    "print('vmin: {0:1.2f} vmax: {1:5.2f}' .format(vmin, vmax))\n",
    "\n",
    "fig, ax = plt.subplots(1, figsize=(8,3))\n",
    "im1 = plt.imshow(science_corrected, cmap=plt.colormaps['magma'], norm=colors.LogNorm(vmin=vmin, vmax=vmax), origin='lower')\n",
    "plt.colorbar(im1, ax=ax)\n",
    "plt.xlabel('X [pixels]')\n",
    "plt.ylabel('Y [pixels]')\n",
    "plt.show()"
   ]
  },
  {
   "cell_type": "code",
   "execution_count": null,
   "id": "285aadf4-bbf5-44f8-b7a1-02e11f692f4a",
   "metadata": {},
   "outputs": [],
   "source": []
  }
 ],
 "metadata": {
  "kernelspec": {
   "display_name": "Python 3 (ipykernel)",
   "language": "python",
   "name": "python3"
  },
  "language_info": {
   "codemirror_mode": {
    "name": "ipython",
    "version": 3
   },
   "file_extension": ".py",
   "mimetype": "text/x-python",
   "name": "python",
   "nbconvert_exporter": "python",
   "pygments_lexer": "ipython3",
   "version": "3.9.19"
  }
 },
 "nbformat": 4,
 "nbformat_minor": 5
}
