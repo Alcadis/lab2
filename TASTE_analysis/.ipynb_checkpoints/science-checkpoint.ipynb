{
 "cells": [
  {
   "cell_type": "code",
   "execution_count": 2,
   "id": "b24bdd5b-90be-499c-befb-4593e8502305",
   "metadata": {},
   "outputs": [],
   "source": [
    "import numpy as np\n",
    "import matplotlib.pyplot as plt\n",
    "from astropy.io import fits \n",
    "import pickle "
   ]
  },
  {
   "cell_type": "code",
   "execution_count": 10,
   "id": "2d9216bf-764b-4fe5-8223-6a1e9f99e213",
   "metadata": {},
   "outputs": [],
   "source": [
    "science_list = np.genfromtxt('/home/alcadis/lab2/group13_WASP-12_20230113/science/science.list',dtype=str)"
   ]
  },
  {
   "cell_type": "code",
   "execution_count": 11,
   "id": "8be993f3-ec19-46dd-a44e-6220a586a928",
   "metadata": {},
   "outputs": [],
   "source": [
    "science_test_list = science_list[:10] "
   ]
  },
  {
   "cell_type": "code",
   "execution_count": 12,
   "id": "1bd7de3f-c32b-44d4-9d38-441991eb89ae",
   "metadata": {},
   "outputs": [],
   "source": [
    "median_bias = pickle.load(open(\"median_bias.p\", \"rb\"))\n",
    "bias_std = 1.3 # [e] photoelectrons\n",
    "readout_noise = 7.4  # [e] photoelectrons\n",
    "gain = 1.91 # [e/ADU]  # this value may be \n",
    "median_normalized_flat =  pickle.load(open(\"median_normalized_flat.p\", \"rb\"))\n",
    "median_normalized_flat_errors =  pickle.load(open(\"median_normalized_flat_errors.p\", \"rb\"))"
   ]
  },
  {
   "cell_type": "code",
   "execution_count": 13,
   "id": "9fd81506-0020-4328-bc28-f0fe91c4d853",
   "metadata": {},
   "outputs": [
    {
     "name": "stderr",
     "output_type": "stream",
     "text": [
      "/tmp/ipykernel_10378/3438758542.py:7: RuntimeWarning: divide by zero encountered in divide\n",
      "  science_corrected = science_debiased / median_normalized_flat\n",
      "/tmp/ipykernel_10378/3438758542.py:7: RuntimeWarning: invalid value encountered in divide\n",
      "  science_corrected = science_debiased / median_normalized_flat\n",
      "/tmp/ipykernel_10378/3438758542.py:11: RuntimeWarning: divide by zero encountered in divide\n",
      "  science_corrected_errors = science_corrected * np.sqrt((science_debiased_errors/science_debiased)**2 + (median_normalized_flat_errors/median_normalized_flat)**2)\n",
      "/tmp/ipykernel_10378/3438758542.py:11: RuntimeWarning: invalid value encountered in multiply\n",
      "  science_corrected_errors = science_corrected * np.sqrt((science_debiased_errors/science_debiased)**2 + (median_normalized_flat_errors/median_normalized_flat)**2)\n"
     ]
    }
   ],
   "source": [
    "for science_name in science_test_list:\n",
    "    science_fits = fits.open('/home/alcadis/lab2/group13_WASP-12_20230113/science/' + science_name)\n",
    "    science_data = science_fits[0].data * gain # save the data from the first HDU \n",
    "    science_fits.close()\n",
    "\n",
    "    science_debiased = science_data - median_bias\n",
    "    science_corrected = science_debiased / median_normalized_flat\n",
    "\n",
    "    ## Error associated to the science corrected frame\n",
    "    science_debiased_errors = np.sqrt(readout_noise**2 + bias_std**2 + science_debiased)\n",
    "    science_corrected_errors = science_corrected * np.sqrt((science_debiased_errors/science_debiased)**2 + (median_normalized_flat_errors/median_normalized_flat)**2)"
   ]
  },
  {
   "cell_type": "code",
   "execution_count": 14,
   "id": "947d4405-f689-40fc-971d-8c6b203f4d5c",
   "metadata": {},
   "outputs": [
    {
     "name": "stdout",
     "output_type": "stream",
     "text": [
      "AF802694.fits\n",
      "AF802694\n",
      "AF802694_corr.p\n"
     ]
    }
   ],
   "source": [
    "print(science_name)\n",
    "print(science_name[:-5])\n",
    "new_name = science_name[:-5] + '_corr.p'\n",
    "print(new_name)"
   ]
  },
  {
   "cell_type": "code",
   "execution_count": 20,
   "id": "9f818348-428f-4ba3-b4ed-f7170a27e04f",
   "metadata": {},
   "outputs": [
    {
     "name": "stderr",
     "output_type": "stream",
     "text": [
      "/tmp/ipykernel_10378/948075281.py:7: RuntimeWarning: divide by zero encountered in divide\n",
      "  science_corrected = science_debiased / median_normalized_flat\n",
      "/tmp/ipykernel_10378/948075281.py:7: RuntimeWarning: invalid value encountered in divide\n",
      "  science_corrected = science_debiased / median_normalized_flat\n",
      "/tmp/ipykernel_10378/948075281.py:11: RuntimeWarning: divide by zero encountered in divide\n",
      "  science_corrected_errors = science_corrected * np.sqrt((science_debiased_errors/science_debiased)**2 + (median_normalized_flat_errors/median_normalized_flat)**2)\n",
      "/tmp/ipykernel_10378/948075281.py:11: RuntimeWarning: invalid value encountered in multiply\n",
      "  science_corrected_errors = science_corrected * np.sqrt((science_debiased_errors/science_debiased)**2 + (median_normalized_flat_errors/median_normalized_flat)**2)\n"
     ]
    }
   ],
   "source": [
    "for science_name in science_test_list:\n",
    "    science_fits = fits.open('/home/alcadis/lab2/group13_WASP-12_20230113/science/' + science_name)\n",
    "    science_data = science_fits[0].data * gain # save the data from the first HDU \n",
    "    science_fits.close()\n",
    "    \n",
    "    science_debiased = science_data - median_bias\n",
    "    science_corrected = science_debiased / median_normalized_flat\n",
    "\n",
    "    ## Error associated to the science corrected frame\n",
    "    science_debiased_errors = np.sqrt(readout_noise**2 + bias_std**2 + science_debiased)\n",
    "    science_corrected_errors = science_corrected * np.sqrt((science_debiased_errors/science_debiased)**2 + (median_normalized_flat_errors/median_normalized_flat)**2)\n",
    "\n",
    "    new_name = '/home/alcadis/lab2/group13_WASP-12_20230113/correct/' + science_name[:-5] + '_corr.p'\n",
    "    pickle.dump(science_corrected, open(new_name, 'wb'))\n",
    "    new_name = '/home/alcadis/lab2/group13_WASP-12_20230113/correct/' + science_name[:-5] + '_corr_errors.p'\n",
    "    pickle.dump(science_corrected_errors, open(new_name, 'wb'))"
   ]
  },
  {
   "cell_type": "code",
   "execution_count": 28,
   "id": "94002df4-b661-4ecb-8541-95338f78b5a3",
   "metadata": {},
   "outputs": [
    {
     "name": "stdout",
     "output_type": "stream",
     "text": [
      "[2459958.325123 2459958.325215 2459958.325306 2459958.325399\n",
      " 2459958.32549  2459958.325582 2459958.325674 2459958.325767\n",
      " 2459958.32586  2459958.325952]\n",
      "[1.186 1.186 1.186 1.186 1.185 1.185 1.185 1.184 1.184 1.184]\n",
      "[6. 6. 6. 6. 6. 6. 6. 6. 6. 6.]\n"
     ]
    }
   ],
   "source": [
    "n_images = len(science_test_list)\n",
    "array_jd = np.zeros(n_images)\n",
    "array_exptime = np.zeros(n_images)\n",
    "array_airmass = np.zeros(n_images)\n",
    "\n",
    "for i_science, science_name in enumerate(science_test_list):\n",
    "    science_fits = fits.open('/home/alcadis/lab2/group13_WASP-12_20230113/science/' + science_name)\n",
    "    array_jd[i_science] = science_fits[0].header['JD']\n",
    "    array_airmass[i_science] = science_fits[0].header['AIRMASS']\n",
    "    array_exptime[i_science] = science_fits[0].header['EXPTIME']\n",
    "    science_fits.close()\n",
    "\n",
    "print(array_jd)\n",
    "print(array_airmass)\n",
    "print(array_exptime)"
   ]
  },
  {
   "cell_type": "markdown",
   "id": "2cf1e2db-8a67-41f3-a4a6-e0e278448453",
   "metadata": {},
   "source": [
    "mean sun = fictious \"fake\" constant speed on the equator during the year. real sun and mean sun has to match when passing to the gamma point\n",
    "gamma point = intersection of the ecliptic with equator\n",
    "mean sun is used to call the universal time UT\n",
    "mean solar time = hour angle HA of mean sun + 12 (perchè siamo a mezzanotte ma vogliamo sia 0 e non 12)\n",
    "ST sidereal time = RA right ascension + HA hour angle (HA of the gamma point)\n",
    "UT is a mean solar time at greenwhich\n",
    "UTC universinal cordinated time where the duration of a second it is fixed using the atome international time TAI\n",
    "difference between 86400 s in tai and mean solar time (UT AND UTC have different durations of a second). this difference must be taken into account when observing.\n",
    "1 problem) UTC discontinuous\n",
    "2 problem) UTC in on earth (affected by gravity) (it is a proper time)\n",
    "\n",
    "we use BJD_TDB (times du baricenter, dynamical time to baricenter) (cordinated time) time corrected by gravity (for discontinuities), for space telescopes too. referenced to the baricenter system of sun and earth\n",
    "\n",
    "another complication after correcting from UTC to BJD_TDB is that if you observe from a point of the orbit and next time on the opposite point, you have to take into account that the time the light take to travel to the second position is more (60 minutes). so we need to compute the light travel time like it is a correction to the BJD_TDB to bring the time to the center of baricenter of the orbit"
   ]
  },
  {
   "cell_type": "code",
   "execution_count": null,
   "id": "de1682eb-6d3b-4dbd-a804-e13ce8dfa96c",
   "metadata": {},
   "outputs": [],
   "source": []
  }
 ],
 "metadata": {
  "kernelspec": {
   "display_name": "Python 3 (ipykernel)",
   "language": "python",
   "name": "python3"
  },
  "language_info": {
   "codemirror_mode": {
    "name": "ipython",
    "version": 3
   },
   "file_extension": ".py",
   "mimetype": "text/x-python",
   "name": "python",
   "nbconvert_exporter": "python",
   "pygments_lexer": "ipython3",
   "version": "3.9.19"
  }
 },
 "nbformat": 4,
 "nbformat_minor": 5
}
