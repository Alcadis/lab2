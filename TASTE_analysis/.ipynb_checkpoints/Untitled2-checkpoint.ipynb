{
 "cells": [
  {
   "cell_type": "code",
   "execution_count": 1,
   "id": "7b0bdbc0-f091-4590-b2f8-f48cc5262d5f",
   "metadata": {},
   "outputs": [],
   "source": [
    "from aperture_class import AperturePhotometry"
   ]
  },
  {
   "cell_type": "code",
   "execution_count": 2,
   "id": "b527b1a7-c5a1-4e14-b317-048fbbdea3ae",
   "metadata": {},
   "outputs": [],
   "source": [
    "import numpy as np\n",
    "import matplotlib.pyplot as plt\n",
    "import matplotlib.colors as colors\n",
    "import pickle\n",
    "from astropy.io import fits"
   ]
  },
  {
   "cell_type": "code",
   "execution_count": 9,
   "id": "23a07ca5-3ab8-483d-816b-3dbbb41eeb74",
   "metadata": {},
   "outputs": [
    {
     "name": "stderr",
     "output_type": "stream",
     "text": [
      "/home/alcadis/Desktop/lab2/TASTE_analysis/aperture_class.py:60: RuntimeWarning: divide by zero encountered in divide\n",
      "  science_corrected = science_debiased / self.median_normalized_flat\n",
      "/home/alcadis/Desktop/lab2/TASTE_analysis/aperture_class.py:60: RuntimeWarning: invalid value encountered in divide\n",
      "  science_corrected = science_debiased / self.median_normalized_flat\n",
      "/home/alcadis/Desktop/lab2/TASTE_analysis/aperture_class.py:65: RuntimeWarning: divide by zero encountered in divide\n",
      "  (science_debiased_errors / science_debiased)**2 +\n",
      "/home/alcadis/Desktop/lab2/TASTE_analysis/aperture_class.py:66: RuntimeWarning: divide by zero encountered in divide\n",
      "  (self.median_normalized_flat_error / self.median_normalized_flat)**2\n",
      "/home/alcadis/Desktop/lab2/TASTE_analysis/aperture_class.py:64: RuntimeWarning: invalid value encountered in multiply\n",
      "  science_corrected_errors = science_corrected * np.sqrt(\n"
     ]
    }
   ],
   "source": [
    "x_target = 267\n",
    "y_target = 63\n",
    "x_reference_01 = 390\n",
    "y_reference_01 = 125\n",
    "x_reference_02 = 80\n",
    "y_reference_02 = 105\n",
    "aperture = 6\n",
    "inner_radius = 12\n",
    "outer_radius = 22\n",
    "\n",
    "\n",
    "# Target star\n",
    "target_ap08 = AperturePhotometry()\n",
    "target_ap08.provide_aperture_parameters(inner_radius, outer_radius, aperture, x_target, y_target)\n",
    "target_ap08.aperture_photometry()  # Ensure this method is called to calculate attributes like bjd_tdb\n",
    "\n",
    "# Reference star 1\n",
    "reference01_ap08 = AperturePhotometry()\n",
    "reference01_ap08.provide_aperture_parameters(inner_radius, outer_radius, aperture, x_reference_01, y_reference_01)\n",
    "reference01_ap08.aperture_photometry()  # Ensure this method is called\n",
    "\n",
    "# Reference star 2\n",
    "reference02_ap08 = AperturePhotometry()\n",
    "reference02_ap08.provide_aperture_parameters(inner_radius, outer_radius, aperture, x_reference_02, y_reference_02)\n",
    "reference02_ap08.aperture_photometry()  # Ensure this method is called\n",
    "\n",
    "time_offset = 24600024.00\n",
    "normalization_index = 200"
   ]
  },
  {
   "cell_type": "code",
   "execution_count": 4,
   "id": "5ca7c919-0acd-4b28-a4fd-9bd3a395d018",
   "metadata": {},
   "outputs": [],
   "source": []
  },
  {
   "cell_type": "code",
   "execution_count": 5,
   "id": "db5f4c3e-3aec-4e3b-9a9d-d05558ababf2",
   "metadata": {},
   "outputs": [],
   "source": []
  },
  {
   "cell_type": "code",
   "execution_count": 6,
   "id": "7c66d18f-13da-4777-935e-5e26e2a4bc81",
   "metadata": {},
   "outputs": [],
   "source": []
  },
  {
   "cell_type": "code",
   "execution_count": 7,
   "id": "1ee66006-477f-47a8-8e8c-551f8bb49221",
   "metadata": {},
   "outputs": [],
   "source": [
    "\n",
    "#fix, axs = plt.subplots(5, 1, sharex=True, figsize=(8,10))\n",
    "#fig.subplots_adjust(hspace=0.05)\n",
    "#axs[0].scatter(target_ap08.bjd_tdb-time_offset, target_ap08.aperture/target_ap08.aperture[normalization_index], s=2, zoder=3, c='C0', label='Target'"
   ]
  },
  {
   "cell_type": "code",
   "execution_count": 10,
   "id": "ac0b4006-0d23-4e43-a330-630e6c904b92",
   "metadata": {},
   "outputs": [
    {
     "ename": "AttributeError",
     "evalue": "'AperturePhotometry' object has no attribute 'aperture'",
     "output_type": "error",
     "traceback": [
      "\u001b[0;31m---------------------------------------------------------------------------\u001b[0m",
      "\u001b[0;31mAttributeError\u001b[0m                            Traceback (most recent call last)",
      "Cell \u001b[0;32mIn[10], line 2\u001b[0m\n\u001b[1;32m      1\u001b[0m plt\u001b[38;5;241m.\u001b[39mfigure()\n\u001b[0;32m----> 2\u001b[0m plt\u001b[38;5;241m.\u001b[39mscatter(target_ap08\u001b[38;5;241m.\u001b[39mbjd_tdb\u001b[38;5;241m-\u001b[39mtime_offset, \u001b[43mtarget_ap08\u001b[49m\u001b[38;5;241;43m.\u001b[39;49m\u001b[43maperture\u001b[49m\u001b[38;5;241m/\u001b[39mreference01_ap08\u001b[38;5;241m.\u001b[39maperture, s\u001b[38;5;241m=\u001b[39m\u001b[38;5;241m2\u001b[39m, label\u001b[38;5;241m=\u001b[39m\u001b[38;5;124m'\u001b[39m\u001b[38;5;124mRef 1\u001b[39m\u001b[38;5;124m'\u001b[39m)\n\u001b[1;32m      3\u001b[0m plt\u001b[38;5;241m.\u001b[39mscatter(target_ap08\u001b[38;5;241m.\u001b[39mbjd_tdb\u001b[38;5;241m-\u001b[39mtime_offset, target_ap08\u001b[38;5;241m.\u001b[39maperture\u001b[38;5;241m/\u001b[39mreference02_ap08\u001b[38;5;241m.\u001b[39maperture, s\u001b[38;5;241m=\u001b[39m\u001b[38;5;241m2\u001b[39m, label\u001b[38;5;241m=\u001b[39m\u001b[38;5;124m'\u001b[39m\u001b[38;5;124mRef 2\u001b[39m\u001b[38;5;124m'\u001b[39m)\n\u001b[1;32m      4\u001b[0m plt\u001b[38;5;241m.\u001b[39mscatter(target_ap08\u001b[38;5;241m.\u001b[39mbjd_tdb\u001b[38;5;241m-\u001b[39mtime_offset, target_ap08\u001b[38;5;241m.\u001b[39maperture\u001b[38;5;241m/\u001b[39m (reference01_ap08\u001b[38;5;241m.\u001b[39maperture \u001b[38;5;241m+\u001b[39m reference02_ap08\u001b[38;5;241m.\u001b[39maperture), s\u001b[38;5;241m=\u001b[39m\u001b[38;5;241m2\u001b[39m, label\u001b[38;5;241m=\u001b[39m\u001b[38;5;124m'\u001b[39m\u001b[38;5;124mall refs\u001b[39m\u001b[38;5;124m'\u001b[39m)\n",
      "\u001b[0;31mAttributeError\u001b[0m: 'AperturePhotometry' object has no attribute 'aperture'"
     ]
    },
    {
     "data": {
      "text/plain": [
       "<Figure size 640x480 with 0 Axes>"
      ]
     },
     "metadata": {},
     "output_type": "display_data"
    }
   ],
   "source": [
    "plt.figure()\n",
    "plt.scatter(target_ap08.bjd_tdb-time_offset, target_ap08.aperture/reference01_ap08.aperture, s=2, label='Ref 1')\n",
    "plt.scatter(target_ap08.bjd_tdb-time_offset, target_ap08.aperture/reference02_ap08.aperture, s=2, label='Ref 2')\n",
    "plt.scatter(target_ap08.bjd_tdb-time_offset, target_ap08.aperture/ (reference01_ap08.aperture + reference02_ap08.aperture), s=2, label='all refs')\n",
    "plt.legend()\n",
    "plt.show()"
   ]
  },
  {
   "cell_type": "code",
   "execution_count": null,
   "id": "56f12c76-c928-4556-acd2-513a103f0f19",
   "metadata": {},
   "outputs": [],
   "source": []
  },
  {
   "cell_type": "code",
   "execution_count": null,
   "id": "6dec77f4-ace8-41a7-b2a5-d160aa884605",
   "metadata": {},
   "outputs": [],
   "source": [
    "differential_ap08_ref01 = target_ap08.aperture/reference01_ap08.aperture\n",
    "differential_ap08_ref02 = target_ap08.aperture/reference02_ap08.aperture\n",
    "differential_ap08_allref = target_ap08.aperture/(reference01_ap08.aperture + reference02_ap08.aperture)\n",
    "median_bjdtdb = np.median(target_ap08.bjd_tdb)\n",
    "time_01 = time_offset + 0.51\n",
    "time_02 = time_offset + 0.59\n",
    "\n",
    "out_transit_selection = (target_ap08.bjd_tdb < time_01) | (target_ap08.bjd_tdb > time_02)\n",
    "out_transit_selection = ((target_ap08.bjd_tdb < time_01) | (target_ap08.bjd_tdb > time_02)) & (target_ap08.bjd_tdb < time_offset + 0.45)"
   ]
  },
  {
   "cell_type": "code",
   "execution_count": null,
   "id": "48a64a44-77a1-4aee-87d5-505b57ea748e",
   "metadata": {},
   "outputs": [],
   "source": [
    "from numpy.polynomial import Polynomial\n",
    "poly_ap08_ref01_pfit = Polynomial.fit(target_ap08.bjd_tdb[out_transit_selection] - median_bjdtdb, differential_ap08_ref01[out_transit_selection]\n",
    "poly_ap08_ref02_pfit = Polynomial.fit(target_ap08.bjd_tdb[out_transit_selection] - median_bjdtdb, differential_ap08_ref02[out_transit_selection]\n",
    "poly_ap08_allref_pfit = Polynomial.fit(target_ap08.bjd_tdb[out_transit_selection] - median_bjdtdb, differential_ap08_allref[out_transit_selection]"
   ]
  },
  {
   "cell_type": "code",
   "execution_count": null,
   "id": "ce0161ec-e4ac-4b26-87ee-1f19269e31f7",
   "metadata": {},
   "outputs": [],
   "source": [
    "#plot"
   ]
  }
 ],
 "metadata": {
  "kernelspec": {
   "display_name": "Python 3 (ipykernel)",
   "language": "python",
   "name": "python3"
  },
  "language_info": {
   "codemirror_mode": {
    "name": "ipython",
    "version": 3
   },
   "file_extension": ".py",
   "mimetype": "text/x-python",
   "name": "python",
   "nbconvert_exporter": "python",
   "pygments_lexer": "ipython3",
   "version": "3.9.20"
  }
 },
 "nbformat": 4,
 "nbformat_minor": 5
}
