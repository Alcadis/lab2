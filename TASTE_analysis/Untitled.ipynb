{
 "cells": [
  {
   "cell_type": "code",
   "execution_count": 1,
   "id": "fbcea324-9925-4d11-be2a-25c39da1d259",
   "metadata": {},
   "outputs": [],
   "source": [
    "import numpy as np\n",
    "import matplotlib.pyplot as plt\n",
    "import matplotlib.colors as colors\n",
    "import pickle\n",
    "from astropy.io import fits\n",
    "%matplotlib notebook"
   ]
  },
  {
   "cell_type": "code",
   "execution_count": 2,
   "id": "551eba77-250a-4718-92e8-8f1e96a6160d",
   "metadata": {},
   "outputs": [],
   "source": [
    "class MyFirstClass:\n",
    "    internal_variable = 12345\n",
    "    def print_hello(self):        #method, self is the first value of the class, so in this case the internal_variable\n",
    "        return 'Hello World'"
   ]
  },
  {
   "cell_type": "code",
   "execution_count": 3,
   "id": "d9ee3acc-1268-4573-abf3-317aefe6f484",
   "metadata": {},
   "outputs": [],
   "source": [
    "first_class = MyFirstClass()\n",
    "second_class = MyFirstClass()"
   ]
  },
  {
   "cell_type": "code",
   "execution_count": 4,
   "id": "aef3e68e-80f5-4004-b6d4-6e9c0fef81eb",
   "metadata": {},
   "outputs": [
    {
     "name": "stdout",
     "output_type": "stream",
     "text": [
      "12345\n",
      "12345\n"
     ]
    }
   ],
   "source": [
    "print(first_class.internal_variable)\n",
    "print(second_class.internal_variable)"
   ]
  },
  {
   "cell_type": "code",
   "execution_count": 6,
   "id": "fae82f0c-d98a-4be8-b910-d860b4750cf5",
   "metadata": {},
   "outputs": [
    {
     "name": "stdout",
     "output_type": "stream",
     "text": [
      "12370\n",
      "12345\n"
     ]
    }
   ],
   "source": [
    "first_class.internal_variable += 25\n",
    "print(first_class.internal_variable)\n",
    "print(second_class.internal_variable)"
   ]
  },
  {
   "cell_type": "code",
   "execution_count": 16,
   "id": "a4a83384-78df-4e9f-b2f8-5b63f592aea4",
   "metadata": {},
   "outputs": [
    {
     "name": "stdout",
     "output_type": "stream",
     "text": [
      "123 45\n",
      "235 56\n"
     ]
    }
   ],
   "source": [
    "class MySecondClass:\n",
    "    internal_variable = 12345\n",
    "\n",
    "    def __init__ (self, x_coord, y_coord):\n",
    "        self.x_coord = x_coord\n",
    "        self.testme = y_coord\n",
    "        print(x_coord, y_coord)\n",
    "\n",
    "    def make_meshgrid(self, xval, yval):\n",
    "        x_range = np.arange(0, xval)\n",
    "        y_range = np.arange(0, yval)\n",
    "        self.X, self.Y = np.meshgrid(x_range, y_range)\n",
    "\n",
    "    def print_meshgrid(self):\n",
    "        print(self.X)\n",
    "        print(self.Y)\n",
    "\n",
    "    def print_hello(self):        #method, self is the first value of the class, so in this case the internal_variable\n",
    "        return 'Hello World'\n",
    "\n",
    "first_class = MySecondClass(123, 45)\n",
    "second_class = MySecondClass(235, 56)"
   ]
  },
  {
   "cell_type": "code",
   "execution_count": 17,
   "id": "b0648e11-ef98-4f26-8f57-3c3cb47b6a8a",
   "metadata": {},
   "outputs": [
    {
     "name": "stdout",
     "output_type": "stream",
     "text": [
      "123\n",
      "45\n",
      "[[0 1 2 3 4 5 6 7 8 9]\n",
      " [0 1 2 3 4 5 6 7 8 9]\n",
      " [0 1 2 3 4 5 6 7 8 9]\n",
      " [0 1 2 3 4 5 6 7 8 9]\n",
      " [0 1 2 3 4 5 6 7 8 9]\n",
      " [0 1 2 3 4 5 6 7 8 9]\n",
      " [0 1 2 3 4 5 6 7 8 9]\n",
      " [0 1 2 3 4 5 6 7 8 9]\n",
      " [0 1 2 3 4 5 6 7 8 9]\n",
      " [0 1 2 3 4 5 6 7 8 9]\n",
      " [0 1 2 3 4 5 6 7 8 9]\n",
      " [0 1 2 3 4 5 6 7 8 9]\n",
      " [0 1 2 3 4 5 6 7 8 9]\n",
      " [0 1 2 3 4 5 6 7 8 9]\n",
      " [0 1 2 3 4 5 6 7 8 9]\n",
      " [0 1 2 3 4 5 6 7 8 9]\n",
      " [0 1 2 3 4 5 6 7 8 9]\n",
      " [0 1 2 3 4 5 6 7 8 9]\n",
      " [0 1 2 3 4 5 6 7 8 9]\n",
      " [0 1 2 3 4 5 6 7 8 9]\n",
      " [0 1 2 3 4 5 6 7 8 9]\n",
      " [0 1 2 3 4 5 6 7 8 9]\n",
      " [0 1 2 3 4 5 6 7 8 9]\n",
      " [0 1 2 3 4 5 6 7 8 9]\n",
      " [0 1 2 3 4 5 6 7 8 9]\n",
      " [0 1 2 3 4 5 6 7 8 9]\n",
      " [0 1 2 3 4 5 6 7 8 9]\n",
      " [0 1 2 3 4 5 6 7 8 9]\n",
      " [0 1 2 3 4 5 6 7 8 9]\n",
      " [0 1 2 3 4 5 6 7 8 9]\n",
      " [0 1 2 3 4 5 6 7 8 9]\n",
      " [0 1 2 3 4 5 6 7 8 9]\n",
      " [0 1 2 3 4 5 6 7 8 9]\n",
      " [0 1 2 3 4 5 6 7 8 9]\n",
      " [0 1 2 3 4 5 6 7 8 9]\n",
      " [0 1 2 3 4 5 6 7 8 9]\n",
      " [0 1 2 3 4 5 6 7 8 9]\n",
      " [0 1 2 3 4 5 6 7 8 9]\n",
      " [0 1 2 3 4 5 6 7 8 9]\n",
      " [0 1 2 3 4 5 6 7 8 9]]\n"
     ]
    }
   ],
   "source": [
    "print(first_class.x_coord)\n",
    "print(first_class.testme)\n",
    "first_class.make_meshgrid(10, 40)\n",
    "print(first_class.X)"
   ]
  },
  {
   "cell_type": "code",
   "execution_count": 48,
   "id": "46e9010b-a1b3-486e-9f4b-2839c5e365a0",
   "metadata": {},
   "outputs": [],
   "source": [
    "class TemporaryAperturePhotometry:\n",
    "    def __init__(self):\n",
    "        self.data_path = '/home/alcadis/Desktop/lab2/group13_WASP-12_20230113'\n",
    "\n",
    "        self.readout_noise = 7.4\n",
    "        self.gain = 1.91\n",
    "        self.bias_std = 1.3\n",
    "\n",
    "        #loading the median bias and the associated error\n",
    "        self.median_bias = pickle.load(open('/home/alcadis/Desktop/lab2/TASTE_analysis/median_bias.p', 'rb'))\n",
    "        self.median_bias_error = pickle.load(open('/home/alcadis/Desktop/lab2/TASTE_analysis/median_bias_error.p', 'rb'))\n",
    "\n",
    "        #loading the median normalized flat and the associated error\n",
    "        self.median_normalized_flat = pickle.load(open('/home/alcadis/Desktop/lab2/TASTE_analysis/median_normalized_flat.p', 'rb'))\n",
    "        self.median_normalized_flat_error = pickle.load(open('/home/alcadis/Desktop/lab2/TASTE_analysis/median_normalized_flat_errors.p', 'rb'))\n",
    "\n",
    "        self.science_path = self.data_path + '/science/'\n",
    "        self.science_list = np.genfromtxt(self.science_path + 'science.list', dtype=str)\n",
    "        self.science_size = len(self.science_list)\n",
    "\n",
    "        ylen, xlen = np.shape(self.median_bias)\n",
    "        X_axis = np.arange(0, xlen, 1.)\n",
    "        Y_axis = np.arange(0, ylen, 1.)\n",
    "        self.X, self.Y = np.meshgrid(X_axis, Y_axis)\n",
    "\n",
    "    #def provide_aperture_parameters(self, aperture_size, inner_radius, outer_radius)\n",
    "        #self.aperture_size = aperture_radius\n",
    "        #...\n",
    "\n",
    "    def aperture_photometry(self):\n",
    "\n",
    "        self.airmass = np.empty(self.science_size)\n",
    "        self.exptime = np.empty(self.science_size)\n",
    "        self.julian_date = np.empty(self.science_size)\n",
    "        \n",
    "\n",
    "        for i_science, science_name in enumerate(self.science_list):\n",
    "            science_fits = fits.open(self.science_path + science_name)\n",
    "            self.airmass[i_science] = science_fits[0].header['AIRMASS']\n",
    "            self.exptime[i_science] = science_fits[0].header['EXPTIME']\n",
    "            self.julian_date[i_science] = science_fits[0].header['JD']\n",
    "\n",
    "            science_data = science_fits[0].data * self.gain\n",
    "            science_corrected, science_corrected_errors = self.correct_science_frame(science_data)\n",
    "\n",
    "            #incorporating centroid algorithm \n",
    "            #incorporating sky background\n",
    "            #do the aperture photometry\n",
    "\n",
    "            science_fits.close()\n",
    "\n",
    "    def correct_science_frame(self, science_data):\n",
    "        science_debiased = science_data - self.median_bias\n",
    "        science_corrected = science_debiased / self.median_normalized_flat\n",
    "\n",
    "        # Error associated to the science corrected frame\n",
    "        science_debiased_errors = np.sqrt(self.readout_noise**2 + self.median_bias_error**2 + science_debiased)\n",
    "        science_corrected_errors = science_corrected * np.sqrt((science_debiased_errors/science_debiased)**2 + \n",
    "                                  (self.median_normalized_flat_error/self.median_normalized_flat)**2)\n",
    "\n",
    "        return science_corrected, science_corrected_errors\n",
    "            "
   ]
  },
  {
   "cell_type": "code",
   "execution_count": 43,
   "id": "f3cbfab1-5932-4f04-9502-87913d8f8da8",
   "metadata": {},
   "outputs": [
    {
     "data": {
      "text/plain": [
       "1.91"
      ]
     },
     "execution_count": 43,
     "metadata": {},
     "output_type": "execute_result"
    }
   ],
   "source": [
    "target_star = TemporaryAperturePhotometry()\n",
    "target_star.gain"
   ]
  },
  {
   "cell_type": "code",
   "execution_count": 49,
   "id": "3bd233d6-2de5-4a4b-b6dc-29d8f15e36c9",
   "metadata": {},
   "outputs": [
    {
     "name": "stderr",
     "output_type": "stream",
     "text": [
      "/tmp/ipykernel_11649/2608083092.py:46: RuntimeWarning: divide by zero encountered in divide\n",
      "  science_corrected = science_debiased / self.median_normalized_flat\n",
      "/tmp/ipykernel_11649/2608083092.py:46: RuntimeWarning: invalid value encountered in divide\n",
      "  science_corrected = science_debiased / self.median_normalized_flat\n",
      "/tmp/ipykernel_11649/2608083092.py:50: RuntimeWarning: divide by zero encountered in divide\n",
      "  science_corrected_errors = science_corrected * np.sqrt((science_debiased_errors/science_debiased)**2 +\n",
      "/tmp/ipykernel_11649/2608083092.py:51: RuntimeWarning: divide by zero encountered in divide\n",
      "  (self.median_normalized_flat_error/self.median_normalized_flat)**2)\n",
      "/tmp/ipykernel_11649/2608083092.py:50: RuntimeWarning: invalid value encountered in multiply\n",
      "  science_corrected_errors = science_corrected * np.sqrt((science_debiased_errors/science_debiased)**2 +\n"
     ]
    },
    {
     "name": "stdout",
     "output_type": "stream",
     "text": [
      "[2459958.325123 2459958.325215 2459958.325306 ... 2459958.524068\n",
      " 2459958.52416  2459958.524253]\n"
     ]
    }
   ],
   "source": [
    "test_target = TemporaryAperturePhotometry()\n",
    "test_target.aperture_photometry()\n",
    "print(test_target.julian_date)"
   ]
  },
  {
   "cell_type": "code",
   "execution_count": null,
   "id": "b5fe8284-a659-4082-87e2-3b38916c7619",
   "metadata": {},
   "outputs": [],
   "source": []
  }
 ],
 "metadata": {
  "kernelspec": {
   "display_name": "Python 3 (ipykernel)",
   "language": "python",
   "name": "python3"
  },
  "language_info": {
   "codemirror_mode": {
    "name": "ipython",
    "version": 3
   },
   "file_extension": ".py",
   "mimetype": "text/x-python",
   "name": "python",
   "nbconvert_exporter": "python",
   "pygments_lexer": "ipython3",
   "version": "3.9.19"
  }
 },
 "nbformat": 4,
 "nbformat_minor": 5
}
